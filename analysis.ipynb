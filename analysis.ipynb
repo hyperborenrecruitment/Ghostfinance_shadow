{
 "cells": [
  {
   "cell_type": "markdown",
   "id": "4745ae80",
   "metadata": {},
   "source": [
    "# GhostFinance Tracker Notebook"
   ]
  },
  {
   "cell_type": "markdown",
   "id": "e98ca806",
   "metadata": {},
   "source": [
    "Basic analysis notebook for visualization and logic demonstration."
   ]
  },
  {
   "cell_type": "code",
   "execution_count": null,
   "id": "a3e97677",
   "metadata": {},
   "outputs": [],
   "source": [
    "\n",
    "import pandas as pd\n",
    "import matplotlib.pyplot as plt\n",
    "df = pd.read_csv(\"expenses.csv\")\n",
    "df.groupby('category')['amount_usd'].sum().sort_values().plot(kind='barh', figsize=(10,6), title='Spending by Category')\n",
    "plt.xlabel(\"Total Spent ($)\")\n",
    "plt.tight_layout()\n",
    "plt.show()\n"
   ]
  }
 ],
 "metadata": {},
 "nbformat": 4,
 "nbformat_minor": 5
}
